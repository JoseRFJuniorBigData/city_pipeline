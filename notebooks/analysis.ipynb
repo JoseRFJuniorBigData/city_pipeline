{
 "cells": [
  {
   "cell_type": "code",
   "execution_count": 1,
   "metadata": {},
   "outputs": [],
   "source": [
    "import pandas as pd\n",
    "import numpy as np"
   ]
  },
  {
   "cell_type": "code",
   "execution_count": 2,
   "metadata": {},
   "outputs": [],
   "source": [
    "df = pd.read_csv(\"../data/20181029_d1_0800_0830.csv\")"
   ]
  },
  {
   "cell_type": "code",
   "execution_count": 3,
   "metadata": {},
   "outputs": [
    {
     "data": {
      "text/plain": [
       "<bound method IndexOpsMixin.tolist of Index(['track_id; type; traveled_d; avg_speed; lat; lon; speed; lon_acc; lat_acc; time'], dtype='object')>"
      ]
     },
     "execution_count": 3,
     "metadata": {},
     "output_type": "execute_result"
    }
   ],
   "source": [
    "df.columns.to_list"
   ]
  },
  {
   "cell_type": "code",
   "execution_count": 5,
   "metadata": {},
   "outputs": [
    {
     "data": {
      "text/html": [
       "<div>\n",
       "<style scoped>\n",
       "    .dataframe tbody tr th:only-of-type {\n",
       "        vertical-align: middle;\n",
       "    }\n",
       "\n",
       "    .dataframe tbody tr th {\n",
       "        vertical-align: top;\n",
       "    }\n",
       "\n",
       "    .dataframe thead th {\n",
       "        text-align: right;\n",
       "    }\n",
       "</style>\n",
       "<table border=\"1\" class=\"dataframe\">\n",
       "  <thead>\n",
       "    <tr style=\"text-align: right;\">\n",
       "      <th></th>\n",
       "      <th>track_id; type; traveled_d; avg_speed; lat; lon; speed; lon_acc; lat_acc; time</th>\n",
       "    </tr>\n",
       "  </thead>\n",
       "  <tbody>\n",
       "    <tr>\n",
       "      <th>0</th>\n",
       "      <td>1; Car; 25.59; 5.549289; 37.977353; 23.737695;...</td>\n",
       "    </tr>\n",
       "    <tr>\n",
       "      <th>1</th>\n",
       "      <td>2; Car; 103.37; 18.985780; 37.978027; 23.73723...</td>\n",
       "    </tr>\n",
       "    <tr>\n",
       "      <th>2</th>\n",
       "      <td>3; Motorcycle; 130.36; 32.589339; 37.978110; 2...</td>\n",
       "    </tr>\n",
       "    <tr>\n",
       "      <th>3</th>\n",
       "      <td>4; Motorcycle; 160.70; 26.537342; 37.978128; 2...</td>\n",
       "    </tr>\n",
       "    <tr>\n",
       "      <th>4</th>\n",
       "      <td>5; Car; 164.14; 26.379138; 37.978152; 23.73711...</td>\n",
       "    </tr>\n",
       "    <tr>\n",
       "      <th>...</th>\n",
       "      <td>...</td>\n",
       "    </tr>\n",
       "    <tr>\n",
       "      <th>756</th>\n",
       "      <td>757; Car; 57.09; 29.358675; 37.980713; 23.7349...</td>\n",
       "    </tr>\n",
       "    <tr>\n",
       "      <th>757</th>\n",
       "      <td>758; Car; 47.69; 26.012926; 37.980720; 23.7349...</td>\n",
       "    </tr>\n",
       "    <tr>\n",
       "      <th>758</th>\n",
       "      <td>759; Medium Vehicle; 42.37; 29.335799; 37.9782...</td>\n",
       "    </tr>\n",
       "    <tr>\n",
       "      <th>759</th>\n",
       "      <td>760; Taxi; 26.09; 27.626198; 37.978293; 23.735...</td>\n",
       "    </tr>\n",
       "    <tr>\n",
       "      <th>760</th>\n",
       "      <td>761; Car; 5.64; 25.387158; 37.978300; 23.73530...</td>\n",
       "    </tr>\n",
       "  </tbody>\n",
       "</table>\n",
       "<p>761 rows × 1 columns</p>\n",
       "</div>"
      ],
      "text/plain": [
       "    track_id; type; traveled_d; avg_speed; lat; lon; speed; lon_acc; lat_acc; time\n",
       "0    1; Car; 25.59; 5.549289; 37.977353; 23.737695;...                            \n",
       "1    2; Car; 103.37; 18.985780; 37.978027; 23.73723...                            \n",
       "2    3; Motorcycle; 130.36; 32.589339; 37.978110; 2...                            \n",
       "3    4; Motorcycle; 160.70; 26.537342; 37.978128; 2...                            \n",
       "4    5; Car; 164.14; 26.379138; 37.978152; 23.73711...                            \n",
       "..                                                 ...                            \n",
       "756  757; Car; 57.09; 29.358675; 37.980713; 23.7349...                            \n",
       "757  758; Car; 47.69; 26.012926; 37.980720; 23.7349...                            \n",
       "758  759; Medium Vehicle; 42.37; 29.335799; 37.9782...                            \n",
       "759  760; Taxi; 26.09; 27.626198; 37.978293; 23.735...                            \n",
       "760  761; Car; 5.64; 25.387158; 37.978300; 23.73530...                            \n",
       "\n",
       "[761 rows x 1 columns]"
      ]
     },
     "execution_count": 5,
     "metadata": {},
     "output_type": "execute_result"
    }
   ],
   "source": [
    "df"
   ]
  },
  {
   "cell_type": "code",
   "execution_count": 7,
   "metadata": {},
   "outputs": [
    {
     "data": {
      "text/plain": [
       "(761, 1)"
      ]
     },
     "execution_count": 7,
     "metadata": {},
     "output_type": "execute_result"
    }
   ],
   "source": [
    "df.shape"
   ]
  }
 ],
 "metadata": {
  "kernelspec": {
   "display_name": "Python 3.10.4 64-bit",
   "language": "python",
   "name": "python3"
  },
  "language_info": {
   "codemirror_mode": {
    "name": "ipython",
    "version": 3
   },
   "file_extension": ".py",
   "mimetype": "text/x-python",
   "name": "python",
   "nbconvert_exporter": "python",
   "pygments_lexer": "ipython3",
   "version": "3.10.4"
  },
  "orig_nbformat": 4,
  "vscode": {
   "interpreter": {
    "hash": "916dbcbb3f70747c44a77c7bcd40155683ae19c65e1c03b4aa3499c5328201f1"
   }
  }
 },
 "nbformat": 4,
 "nbformat_minor": 2
}
